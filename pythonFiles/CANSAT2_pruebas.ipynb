{
 "cells": [
  {
   "cell_type": "code",
   "execution_count": 67,
   "id": "b9c84e6c-1a30-4c33-b384-81b329680880",
   "metadata": {},
   "outputs": [
    {
     "name": "stdout",
     "output_type": "stream",
     "text": [
      "Comunicación serial abierta en COM3 a 9600 baudios.\n",
      "Dato recibido: \u0018(-560,26,-53,255,845,40052,5,25,-120,30096)\n"
     ]
    }
   ],
   "source": [
    "import serial\n",
    "import sys\n",
    "import time\n",
    "\n",
    "def establecer_comunicacion_serial(puerto, baudios):\n",
    "    try:\n",
    "        ser = serial.Serial(puerto, baudios)\n",
    "        return ser\n",
    "    except serial.SerialException as e:\n",
    "        print(f\"No se pudo establecer la comunicación serial: {e}\")\n",
    "        return None\n",
    "\n",
    "puerto = 'COM3'\n",
    "baudios = 9600\n",
    "ser = establecer_comunicacion_serial(puerto, baudios)\n",
    "time.sleep(3)\n",
    "\n",
    "if ser is not None:\n",
    "    print(f\"Comunicación serial abierta en {puerto} a {baudios} baudios.\")\n",
    "    try:\n",
    "        dato = ser.readline()\n",
    "        if dato:\n",
    "            print(\"Dato recibido:\", dato.decode('latin1'), end='')\n",
    "    except KeyboardInterrupt:\n",
    "        ser.close()\n",
    "        print(\"\\nComunicación serial cerrada.\")\n",
    "else:\n",
    "    print(\"La comunicación serial no se pudo establecer. Verifica el puerto y vuelve a intentarlo.\")\n",
    "    sys.exit(1)\n",
    "ser.close()"
   ]
  },
  {
   "cell_type": "code",
   "execution_count": 148,
   "id": "0707b4b2-df5e-4206-b4b1-99257f02704d",
   "metadata": {},
   "outputs": [],
   "source": [
    "import serial\n",
    "import time\n",
    "import numpy as np"
   ]
  },
  {
   "cell_type": "code",
   "execution_count": 152,
   "id": "37a27444-d153-4fc6-a543-f395f993faa4",
   "metadata": {},
   "outputs": [
    {
     "name": "stdout",
     "output_type": "stream",
     "text": [
      "Datos recibidos: ,µ(-560,26,-53,255,845,40052,5,25,-120,30096)\n",
      "Comunicación serial cerrada.\n"
     ]
    }
   ],
   "source": [
    "class SerialCommunication:\n",
    "    def __init__(self, port, baudrate):\n",
    "        self.ser = serial.Serial(port, baudrate)\n",
    "        time.sleep(2)\n",
    "\n",
    "    def readdata(self):\n",
    "        if self.ser.isOpen():\n",
    "            data = self.ser.readline().decode('latin1').strip()\n",
    "            return data\n",
    "        else:\n",
    "            print(\"Error: La comunicación serial no está abierta.\")\n",
    "\n",
    "    def __close__(self):\n",
    "        if self.ser.isOpen():\n",
    "            self.ser.close()\n",
    "            print(\"Comunicación serial cerrada.\")\n",
    "        else:\n",
    "            print(\"Error: La comunicación serial ya está cerrada.\")\n",
    "\n",
    "sensor = SerialCommunication('COM3', 9600)\n",
    "datos = sensor.readdata()\n",
    "print(\"Datos recibidos:\", datos)\n",
    "sensor.__close__()"
   ]
  },
  {
   "cell_type": "code",
   "execution_count": 131,
   "id": "36ea9be7-c200-4234-8cff-f77d3e3178a8",
   "metadata": {},
   "outputs": [
    {
     "name": "stdout",
     "output_type": "stream",
     "text": [
      "[<serial.tools.list_ports_common.ListPortInfo object at 0x000001B265CD6B50>]\n"
     ]
    }
   ],
   "source": [
    "import serial.tools.list_ports\n",
    "availablePorts = serial.tools.list_ports.comports()\n",
    "print(availablePorts)"
   ]
  },
  {
   "cell_type": "code",
   "execution_count": 150,
   "id": "adcb0bfe-2643-4217-af85-bf3eb3beba28",
   "metadata": {},
   "outputs": [],
   "source": [
    "database=np.empty((0,10))"
   ]
  },
  {
   "cell_type": "code",
   "execution_count": 153,
   "id": "13efe0d5-14d8-4722-b2d2-f5a70ab4ed18",
   "metadata": {},
   "outputs": [],
   "source": [
    "index_i = datos.find(\"(\")\n",
    "index_f = datos.rfind(\")\")\n",
    "fila = datos[index_i : index_f+1]\n",
    "accel_x1,accel_y1,accel_z1,temp1,pres1,alti1,gyro_x1,gyro_y1,gyro_z1,alti2=eval(fila)"
   ]
  },
  {
   "cell_type": "code",
   "execution_count": 154,
   "id": "d17126bd-b5eb-4744-93f6-974c53e8a84e",
   "metadata": {},
   "outputs": [],
   "source": [
    "accel_x1/=100\n",
    "accel_y1/=100\n",
    "accel_z1/=100\n",
    "temp1/=10\n",
    "pres1=101325-pres1\n",
    "alti1/=100\n",
    "gyro_x1=(gyro_x1*1000)/8.75\n",
    "gyro_y1=(gyro_y1*1000)/8.75\n",
    "gyro_z1=(gyro_z1*1000)/8.75\n",
    "alti2/=100\n",
    "rfila= [accel_x1,accel_y1,accel_z1,temp1,pres1,alti1,gyro_x1,gyro_y1,gyro_z1,alti2]\n"
   ]
  },
  {
   "cell_type": "code",
   "execution_count": 155,
   "id": "17a72fe8-c4e8-40f5-abf2-2fc14ed1dbb9",
   "metadata": {},
   "outputs": [],
   "source": [
    "if len(database) == 0:\n",
    "    database = rfila\n",
    "else:\n",
    "    database = np.concatenate((database, rfila), axis=0)\n",
    "\n"
   ]
  },
  {
   "cell_type": "code",
   "execution_count": 156,
   "id": "8cb112d7-1f74-4410-a51c-d6ef5730ebe6",
   "metadata": {},
   "outputs": [
    {
     "name": "stdout",
     "output_type": "stream",
     "text": [
      "[[-5.60000000e+00  2.60000000e-01 -5.30000000e-01  2.55000000e+01\n",
      "   1.00480000e+05  4.00520000e+02  5.71428571e+02  2.85714286e+03\n",
      "  -1.37142857e+04  3.00960000e+02]]\n"
     ]
    }
   ],
   "source": [
    "database=np.reshape(database,(-1,10))\n",
    "print(database)"
   ]
  },
  {
   "cell_type": "code",
   "execution_count": 1,
   "id": "4c40120f-b7ac-4fc9-acd5-4f1938fc4aca",
   "metadata": {},
   "outputs": [],
   "source": [
    "class Operations:\n",
    "    def __init__(self,variable,tipo):\n",
    "        self.variable=variable\n",
    "        self.tipo=tipo\n",
    "    def operar(self):\n",
    "        operaciones = {\n",
    "            '1': lambda x: x / 100,  # aceleraciones\n",
    "            '2': lambda x: x / 10,   # temperatura\n",
    "            '3': lambda x: 101325 - x,  # presion\n",
    "            '4': lambda x: x / 100,  # altura\n",
    "            '5': lambda x: (x * 1000) / 8.75,  # gyro\n",
    "        }\n",
    "\n",
    "        if self.tipo in operaciones:\n",
    "            self.variable = operaciones[self.tipo](self.variable)\n",
    "        else:\n",
    "            print(\"Tipo no reconocido\")"
   ]
  },
  {
   "cell_type": "code",
   "execution_count": 22,
   "id": "e10655e3-b660-48a7-a3fc-95a614c3eb52",
   "metadata": {},
   "outputs": [],
   "source": [
    "import pandas as pd\n",
    "\n",
    "class Database:\n",
    "    def __init__(self, db_name):\n",
    "        self.db_name = db_name\n",
    "        self.tables = {}\n",
    "\n",
    "    def create_table(self, table_name, headers):\n",
    "        self.tables[table_name] = pd.DataFrame(columns=headers)\n",
    "\n",
    "    def insert_data(self, table_name, data_dict):\n",
    "        if table_name not in self.tables:\n",
    "            raise ValueError(f\"Table '{table_name}' does not exist in the database. Create the table first.\")\n",
    "        new_row = pd.DataFrame(data_dict, index=[0])\n",
    "        self.tables[table_name] = pd.concat([self.tables[table_name], new_row], ignore_index=True)\n",
    "        print(f\"Data inserted into '{table_name}' table.\")\n",
    "\n",
    "    def get_last_row(self, table_name):\n",
    "        if table_name not in self.tables:\n",
    "            raise ValueError(f\"Table '{table_name}' does not exist in the database.\")\n",
    "        last_row = self.tables[table_name].iloc[-1]\n",
    "        return last_row\n",
    "\n",
    "    def show_tables(self):\n",
    "        print(\"Tables in the database:\")\n",
    "        for table_name, df in self.tables.items():\n",
    "            print(f\"Table: {table_name}\")\n",
    "            print(df)"
   ]
  },
  {
   "cell_type": "code",
   "execution_count": 23,
   "id": "15d560b2-e00b-4eec-92b7-aab06a10ba6c",
   "metadata": {},
   "outputs": [],
   "source": [
    "#(-560,26,-53,255,845,40052,5,25,-120,30096)\n",
    "accel_x=-5.6\n",
    "accel_y=0.26\n",
    "accel_z=-0.53\n",
    "temp1=25.5\n",
    "pres1=2.55\n",
    "alti1=400.52\n",
    "gyro_x=0.02392\n",
    "gyro_y=0.01223\n",
    "gyro_z=0.04517\n",
    "alti2=300.96"
   ]
  },
  {
   "cell_type": "code",
   "execution_count": 31,
   "id": "b8540e93-b6ca-4c8f-b175-352c9814c506",
   "metadata": {},
   "outputs": [
    {
     "name": "stdout",
     "output_type": "stream",
     "text": [
      "Data inserted into 'Database' table.\n",
      "Data inserted into 'Database' table.\n",
      "Data inserted into 'Database' table.\n",
      "Data inserted into 'Database' table.\n"
     ]
    },
    {
     "name": "stderr",
     "output_type": "stream",
     "text": [
      "C:\\Users\\Usuario\\AppData\\Local\\Temp\\ipykernel_5156\\2767842942.py:15: FutureWarning: The behavior of DataFrame concatenation with empty or all-NA entries is deprecated. In a future version, this will no longer exclude empty or all-NA columns when determining the result dtypes. To retain the old behavior, exclude the relevant entries before the concat operation.\n",
      "  self.tables[table_name] = pd.concat([self.tables[table_name], new_row], ignore_index=True)\n"
     ]
    }
   ],
   "source": [
    "my_db = Database(\"MyDatabase\")\n",
    "headers = [\"Ax\", \"Ay\", \"Az\", \"Temperatura\", \"Presion\", \"Altura1\", \"Gx\", \"Gy\", \"Gz\", \"Altura2\"]\n",
    "my_db.create_table(\"Database\", headers)\n",
    "\n",
    "my_db.insert_data(\"Database\", {\"Ax\": accel_x , \"Ay\": accel_y, \"Az\": accel_z, \"Temperatura\": temp1, \"Presion\": pres1, \"Altura1\": alti1,\n",
    "                               \"Gx\": gyro_x, \"Gy\": gyro_y, \"Gz\": gyro_z, \"Altura2\": alti2})\n",
    "my_db.insert_data(\"Database\", {\"Ax\": accel_x + 1, \"Ay\": accel_y + 1, \"Az\": accel_z + 1, \"Temperatura\": temp1 + 0.5,\n",
    "                               \"Presion\": pres1 + 0.2, \"Altura1\": alti1 - 10,\"Gx\": gyro_x - 0.001, \"Gy\": gyro_y - 0.001,\n",
    "                               \"Gz\": gyro_z + 0.001, \"Altura2\": alti2 - 10})\n",
    "my_db.insert_data(\"Database\", {\"Ax\": accel_x + 1, \"Ay\": accel_y + 1, \"Az\": accel_z + 1, \"Temperatura\": temp1 + 0.5,\n",
    "                               \"Presion\": pres1 + 0.2, \"Altura1\": alti1 - 10,\"Gx\": gyro_x - 0.001, \"Gy\": gyro_y - 0.001,\n",
    "                               \"Gz\": gyro_z + 0.001, \"Altura2\": alti2 - 10})\n",
    "my_db.insert_data(\"Database\", {\"Ax\": accel_x + 1, \"Ay\": accel_y + 1, \"Az\": accel_z + 1, \"Temperatura\": temp1 + 0.5,\n",
    "                               \"Presion\": pres1 + 0.2, \"Altura1\": alti1 - 10,\"Gx\": gyro_x - 0.001, \"Gy\": gyro_y - 0.001,\n",
    "                               \"Gz\": gyro_z + 0.001, \"Altura2\": alti2 - 10})\n",
    "# Obtener la última fila de la tabla \"Database\"\n",
    "last_row = my_db.get_last_row(\"Database\")"
   ]
  },
  {
   "cell_type": "code",
   "execution_count": 33,
   "id": "60c780d3-274e-4254-b76b-935c9340f569",
   "metadata": {},
   "outputs": [],
   "source": [
    "class Integrate:\n",
    "    def __init__(self, a1, a2, t1, t2, s1, v1):\n",
    "        self.a1 = a1  # Aceleración inicial\n",
    "        self.a2 = a2  # Aceleración final\n",
    "        self.t1 = t1  # Tiempo inicial\n",
    "        self.t2 = t2  # Tiempo final\n",
    "        self.s1 = s1  # Posición inicial\n",
    "        self.v1 = v1  # Velocidad inicial\n",
    "        self.v2 = self.calcular_vf()\n",
    "\n",
    "    def calcular_vf(self):\n",
    "        return self.v1 + (self.a2 - self.a1)*0.5*(self.t2-self.t1)\n",
    "\n",
    "    def calcular_pf(self):\n",
    "        delta_v = self.v2 - self.v1\n",
    "        delta_t = self.t2 - self.t1\n",
    "\n",
    "        posicion = self.s1 + (self.v1 * delta_t) + (0.5 * self.a1 * delta_t**2)\n",
    "        return posicion"
   ]
  },
  {
   "cell_type": "code",
   "execution_count": 34,
   "id": "71b7eb1c-1e51-4bda-a055-5f499d7409c6",
   "metadata": {},
   "outputs": [
    {
     "name": "stdout",
     "output_type": "stream",
     "text": [
      "La velocidad instantánea es: 2.5 m/s²\n",
      "La posición final es: 25.0 m\n"
     ]
    }
   ],
   "source": [
    "# Ejemplo de uso\n",
    "try:\n",
    "    a1 = 2  # Aceleración inicial\n",
    "    a2 = 3  # Aceleración final\n",
    "    t1 = 0  # Tiempo inicial\n",
    "    t2 = 5  # Tiempo final\n",
    "    s1 = 0  # Posición inicial\n",
    "    v1 = 0  # Velocidad inicial\n",
    "    movimiento = Integrate(a1, a2, t1, t2, s1, v1)\n",
    "    velocidad_instantanea = movimiento.calcular_vf()\n",
    "    posicion_final = movimiento.calcular_pf()\n",
    "\n",
    "    print(f\"La velocidad instantánea es: {velocidad_instantanea} m/s²\")\n",
    "    print(f\"La posición final es: {posicion_final} m\")\n",
    "except ZeroDivisionError:\n",
    "    print(\"El tiempo no puede ser cero para calcular la velocidad instantánea.\")"
   ]
  },
  {
   "cell_type": "code",
   "execution_count": null,
   "id": "a37edfcb-1243-4349-bf69-70c8a14f04a7",
   "metadata": {},
   "outputs": [],
   "source": []
  }
 ],
 "metadata": {
  "kernelspec": {
   "display_name": "Python 3 (ipykernel)",
   "language": "python",
   "name": "python3"
  },
  "language_info": {
   "codemirror_mode": {
    "name": "ipython",
    "version": 3
   },
   "file_extension": ".py",
   "mimetype": "text/x-python",
   "name": "python",
   "nbconvert_exporter": "python",
   "pygments_lexer": "ipython3",
   "version": "3.11.7"
  }
 },
 "nbformat": 4,
 "nbformat_minor": 5
}
